{
 "cells": [
  {
   "cell_type": "markdown",
   "metadata": {},
   "source": [
    "A lo largo de esta evaluación tendrás que crear una clase llamada `TiendaOnline` que cumpla los siguientes requisitos:\n",
    "\n",
    " - La clase `TiendaOnline` debe tener los siguientes atributos:\n",
    "\n",
    "    1. `inventario` (lista de diccionarios): Un atributo para almacenar los productos en el inventario. Cada producto debe ser representado como un diccionario con las siguientes claves: `'nombre'`, `'precio'`, y `'cantidad'`. Al principio deberá ser una lista vacía. Ejemplo de como debería ser:\n",
    "\n",
    "        ```python\n",
    "            [{'nombre': 'Camisa', 'precio': 20, 'cantidad': 40},\n",
    "            {'nombre': 'Pantalón', 'precio': 30, 'cantidad': 30}]\n",
    "        ```\n",
    "\n",
    "    1. `ventas_totales` (float): Un atributo para llevar un registro de las ventas totales de la tienda. Inicializado con valor 0. "
   ]
  },
  {
   "cell_type": "markdown",
   "metadata": {},
   "source": [
    "Creación del constructor de la clase"
   ]
  },
  {
   "cell_type": "code",
   "execution_count": null,
   "metadata": {},
   "outputs": [],
   "source": [
    "class Tienda_online:\n",
    "    \n",
    "    def __init__ (self, nombre):\n",
    "        \n",
    "        self.nombre = nombre\n",
    "        self.inventario = []\n",
    "        self.ventas_totales = 0.0 #float\n",
    "\n"
   ]
  },
  {
   "cell_type": "markdown",
   "metadata": {},
   "source": [
    "Prueba constructor"
   ]
  },
  {
   "cell_type": "code",
   "execution_count": 19,
   "metadata": {},
   "outputs": [
    {
     "name": "stdout",
     "output_type": "stream",
     "text": [
      "{'nombre': 'DeTodounPoco', 'inventario': [], 'ventas_totales': 0.0}\n"
     ]
    }
   ],
   "source": [
    "mi_tienda = Tienda_online (\"DeTodounPoco\")\n",
    "\n",
    "print (mi_tienda.__dict__)"
   ]
  },
  {
   "cell_type": "markdown",
   "metadata": {},
   "source": [
    "Si probamos a añadir otros parámetros referentes al atributo inventario tendremos un error ya que en la definición del constructor no hemos añadido este\n",
    "parámetro ya que partimos de un dato que no tenemos desde el principio. Por lo tanto para que no tengamos este error debemos crear la función que\n",
    "nos vaya incluyendo los datos a posteriori en esa lista de diccionario vacíos que tenemos como segundo atributo:"
   ]
  },
  {
   "cell_type": "code",
   "execution_count": 20,
   "metadata": {},
   "outputs": [
    {
     "ename": "TypeError",
     "evalue": "Tienda_online.__init__() takes 2 positional arguments but 3 were given",
     "output_type": "error",
     "traceback": [
      "\u001b[0;31m---------------------------------------------------------------------------\u001b[0m",
      "\u001b[0;31mTypeError\u001b[0m                                 Traceback (most recent call last)",
      "Cell \u001b[0;32mIn[20], line 1\u001b[0m\n\u001b[0;32m----> 1\u001b[0m mi_tienda \u001b[38;5;241m=\u001b[39m Tienda_online(\u001b[38;5;124m\"\u001b[39m\u001b[38;5;124mDeTodounPoco\u001b[39m\u001b[38;5;124m\"\u001b[39m, [{\u001b[38;5;124m'\u001b[39m\u001b[38;5;124mnombre\u001b[39m\u001b[38;5;124m'\u001b[39m: \u001b[38;5;124m'\u001b[39m\u001b[38;5;124mlengua_gato\u001b[39m\u001b[38;5;124m'\u001b[39m, \u001b[38;5;124m'\u001b[39m\u001b[38;5;124mprecio\u001b[39m\u001b[38;5;124m'\u001b[39m: \u001b[38;5;241m0.10\u001b[39m, \u001b[38;5;124m'\u001b[39m\u001b[38;5;124mcantidad\u001b[39m\u001b[38;5;124m'\u001b[39m: \u001b[38;5;241m100\u001b[39m}])\n\u001b[1;32m      3\u001b[0m \u001b[38;5;66;03m# Verificar los atributos\u001b[39;00m\n\u001b[1;32m      4\u001b[0m \u001b[38;5;28mprint\u001b[39m(mi_tienda\u001b[38;5;241m.\u001b[39m\u001b[38;5;18m__dict__\u001b[39m)\n",
      "\u001b[0;31mTypeError\u001b[0m: Tienda_online.__init__() takes 2 positional arguments but 3 were given"
     ]
    }
   ],
   "source": [
    "mi_tienda = Tienda_online(\"DeTodounPoco\", [{'nombre': 'lengua_gato', 'precio': 0.10, 'cantidad': 100}])\n",
    "\n",
    "# Verificar los atributos\n",
    "print(mi_tienda.__dict__)"
   ]
  }
 ],
 "metadata": {
  "kernelspec": {
   "display_name": "base",
   "language": "python",
   "name": "python3"
  },
  "language_info": {
   "codemirror_mode": {
    "name": "ipython",
    "version": 3
   },
   "file_extension": ".py",
   "mimetype": "text/x-python",
   "name": "python",
   "nbconvert_exporter": "python",
   "pygments_lexer": "ipython3",
   "version": "3.11.11"
  }
 },
 "nbformat": 4,
 "nbformat_minor": 2
}
