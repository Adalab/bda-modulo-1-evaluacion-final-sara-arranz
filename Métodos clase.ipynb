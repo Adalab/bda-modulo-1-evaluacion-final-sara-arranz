{
 "cells": [
  {
   "cell_type": "markdown",
   "metadata": {},
   "source": [
    "1. `agregar_producto(self, nombre, precio, cantidad)`: Este método agrega un producto al inventario o actualiza su cantidad si ya existe. Debe recibir el nombre, precio y cantidad del producto como parámetros. \n",
    "\n",
    "    - Itera a través del inventario y compara los nombres de los productos con el nombre proporcionado.\n",
    "    - Si el producto ya existe, actualiza la cantidad.\n",
    "    - Si no existe, agrega un nuevo producto al inventario."
   ]
  },
  {
   "cell_type": "code",
   "execution_count": 2,
   "metadata": {},
   "outputs": [],
   "source": [
    "class Tienda_online:\n",
    "    \n",
    "    def __init__ (self, nombre):\n",
    "        \n",
    "        self.nombre = nombre\n",
    "        self.inventario = []\n",
    "        self.ventas_totales = 0.0 #float\n",
    "    \n",
    "    # Creamos el método que nos permita agregar cualquier tipo de producto en cualquier momento.\n",
    "    \n",
    "    def agregar_productos(self, producto_nuevo):\n",
    "        \n",
    "        # Necesitamos generar un código que sea capaz de reconocer un producto ya existete mientras itera \n",
    "        # y no nos lo devuelva en cada iteración que realice. Se trata de evitar iteraciones adicionales innecesarias. \n",
    "        \n",
    "        producto_existente = None \n",
    "        \n",
    "        #Ahora necesitamos iterar sobre self.inventario (lista sobre la que podemos iterar). \n",
    "        # En cada iteración, la variable producto (que decidamos introducir, en cada momentos será una variable diferente)\n",
    "        # tomará un elemento de self.inventario.\n",
    "        \n",
    "        for producto in self.inventario:\n",
    "            \n",
    "            if producto['nombre'] == producto_nuevo['nombre']:\n",
    "                \n",
    "                producto_existente = producto\n",
    "                \n",
    "                break # Romepemos este condicional una vez sepamos si el producto que vamos a añadir ya existe o no en nuestra lista. \n",
    "        \n",
    "        if producto_existente:\n",
    "            \n",
    "            producto_existente['cantidad'] += producto_nuevo['cantidad']\n",
    "            print(f\"{producto_nuevo['nombre'].capitalize()} ya existe y su nueva cantidad es {producto_existente['cantidad']}\")\n",
    "        \n",
    "        else:\n",
    "            \n",
    "            self.inventario.append(producto_nuevo)\n",
    "            print(f\"Se ha añadido el producto nuevo con todos sus datos: {producto_nuevo}\")"
   ]
  },
  {
   "cell_type": "markdown",
   "metadata": {},
   "source": [
    "Para convertir tienda en una instancia de Tienda_online, y así poder acceder a sus métodos y atributos. Generamos el objeto"
   ]
  },
  {
   "cell_type": "code",
   "execution_count": 3,
   "metadata": {},
   "outputs": [],
   "source": [
    "tienda = Tienda_online (\"DeTodounPoco\")"
   ]
  },
  {
   "cell_type": "markdown",
   "metadata": {},
   "source": [
    "Generamos productos."
   ]
  },
  {
   "cell_type": "code",
   "execution_count": 4,
   "metadata": {},
   "outputs": [],
   "source": [
    "producto1 = {'nombre':'manzana', 'precio': 1, 'cantidad': 78}\n",
    "producto2 = {'nombre':'pera', 'precio': 0.50, 'cantidad': 180}\n",
    "producto3 = {'nombre':'aguacate', 'precio': 4, 'cantidad': 23}\n",
    "producto4 = {'nombre':'aguacate', 'precio': 4, 'cantidad': 78}"
   ]
  },
  {
   "cell_type": "markdown",
   "metadata": {},
   "source": [
    "Llamos al método por cada producto que queremos añadir a nuestro inventario."
   ]
  },
  {
   "cell_type": "code",
   "execution_count": 5,
   "metadata": {},
   "outputs": [
    {
     "name": "stdout",
     "output_type": "stream",
     "text": [
      "Se ha añadido el producto nuevo con todos sus datos: {'nombre': 'manzana', 'precio': 1, 'cantidad': 78}\n"
     ]
    }
   ],
   "source": [
    "tienda.agregar_productos (producto1)"
   ]
  },
  {
   "cell_type": "code",
   "execution_count": 6,
   "metadata": {},
   "outputs": [
    {
     "name": "stdout",
     "output_type": "stream",
     "text": [
      "Se ha añadido el producto nuevo con todos sus datos: {'nombre': 'pera', 'precio': 0.5, 'cantidad': 180}\n"
     ]
    }
   ],
   "source": [
    "tienda.agregar_productos (producto2)"
   ]
  },
  {
   "cell_type": "code",
   "execution_count": 7,
   "metadata": {},
   "outputs": [
    {
     "name": "stdout",
     "output_type": "stream",
     "text": [
      "Se ha añadido el producto nuevo con todos sus datos: {'nombre': 'aguacate', 'precio': 4, 'cantidad': 23}\n"
     ]
    }
   ],
   "source": [
    "tienda.agregar_productos (producto3)\n"
   ]
  },
  {
   "cell_type": "code",
   "execution_count": 8,
   "metadata": {},
   "outputs": [
    {
     "name": "stdout",
     "output_type": "stream",
     "text": [
      "Aguacate ya existe y su nueva cantidad es 101\n"
     ]
    }
   ],
   "source": [
    "tienda.agregar_productos (producto4)\n"
   ]
  },
  {
   "cell_type": "markdown",
   "metadata": {},
   "source": [
    "2. `ver_inventario(self)`: Muestra el inventario de productos con sus detalles.\n",
    "\n",
    "   - Utiliza un bucle `for` para recorrer el inventario.\n",
    "   - Imprime los detalles (nombre, precio, cantidad) de cada producto.\n",
    "   - Debería verse:\n",
    "         \n",
    "        ```python\n",
    "            Nombre: Camisa, Precio: $20, Cantidad: 50\n",
    "            Nombre: Pantalón, Precio: $30, Cantidad: 30\n",
    "            Nombre: Zapatos, Precio: $50, Cantidad: 40\n",
    "            Nombre: Camisa, Precio: $20, Cantidad: 50"
   ]
  },
  {
   "cell_type": "code",
   "execution_count": 11,
   "metadata": {},
   "outputs": [],
   "source": [
    "class Tienda_online:\n",
    "    \n",
    "    def __init__ (self, nombre):\n",
    "        \n",
    "        self.nombre = nombre\n",
    "        self.inventario = []\n",
    "        self.ventas_totales = 0.0 #float\n",
    "    \n",
    "    def agregar_productos(self, producto_nuevo):\n",
    "        \n",
    "        producto_existente = False\n",
    "        \n",
    "        for producto in self.inventario:\n",
    "            \n",
    "            if producto['nombre'] == producto_nuevo['nombre']:\n",
    "                \n",
    "                producto_existente = producto\n",
    "                \n",
    "                break\n",
    "        \n",
    "        if producto_existente:\n",
    "            \n",
    "            producto_existente['cantidad'] += producto_nuevo['cantidad']\n",
    "            print(f\"{producto_nuevo['nombre'].capitalize()} ya existe y su nueva cantidad es {producto_existente['cantidad']}\")\n",
    "        \n",
    "        else:\n",
    "            \n",
    "            self.inventario.append(producto_nuevo)\n",
    "            print(f\"Se ha añadido el producto nuevo con todos sus datos: {producto_nuevo}\")\n",
    "    \n",
    "    # Cramos nuevo método, de nuevo con un bucle for porque necesitamos iterar para realizar las comprobaciones dentro de la lista inventario.\n",
    "    # El método nos permite imprimir en cualquier momento un producto determinado si ya existe en nuestro inventario.\n",
    "    \n",
    "    def ver_inventario(self, nombre_producto): # Añadimos parámetro a nuestra función\n",
    "        \n",
    "        encontrado = False  # Incluyo un booleano para controlar la situación de parada. Comenzamos suponiendo que el producto no está:\n",
    "\n",
    "        for producto in self.inventario:\n",
    "            \n",
    "            if producto[\"nombre\"].lower() == nombre_producto.lower():  # Si encontramos el producto\n",
    "                \n",
    "                print(f\"Nombre: {producto['nombre'].capitalize()}, Precio: ${producto['precio']}, Cantidad: {producto['cantidad']}\")\n",
    "                \n",
    "                encontrado = True  # Marcamos que lo hemos encontrado, modificamos el booleano de partida.\n",
    "            \n",
    "                break  # Salimos del bucle, ya que no necesitamos seguir buscando\n",
    "\n",
    "        if not encontrado:  # Si seguimos en la situación de partida:\n",
    "            \n",
    "            print(f\"El producto '{nombre_producto}' no se encuentra en el inventario.\")\n"
   ]
  },
  {
   "cell_type": "code",
   "execution_count": 12,
   "metadata": {},
   "outputs": [],
   "source": [
    "tienda = Tienda_online ('DeTodounPoco')"
   ]
  },
  {
   "cell_type": "code",
   "execution_count": 13,
   "metadata": {},
   "outputs": [
    {
     "name": "stdout",
     "output_type": "stream",
     "text": [
      "Se ha añadido el producto nuevo con todos sus datos: {'nombre': 'manzana', 'precio': 1, 'cantidad': 78}\n",
      "Se ha añadido el producto nuevo con todos sus datos: {'nombre': 'pera', 'precio': 0.5, 'cantidad': 180}\n",
      "Se ha añadido el producto nuevo con todos sus datos: {'nombre': 'aguacate', 'precio': 4, 'cantidad': 23}\n",
      "Aguacate ya existe y su nueva cantidad es 101\n"
     ]
    }
   ],
   "source": [
    "producto_1 = {'nombre':'manzana', 'precio': 1, 'cantidad': 78}\n",
    "producto_2 = {'nombre':'pera', 'precio': 0.50, 'cantidad': 180}\n",
    "producto_3 = {'nombre':'aguacate', 'precio': 4, 'cantidad': 23}\n",
    "producto_4 = {'nombre':'aguacate', 'precio': 4, 'cantidad': 78}\n",
    "\n",
    "tienda.agregar_productos (producto_1)\n",
    "tienda.agregar_productos (producto_2)\n",
    "tienda.agregar_productos (producto_3)\n",
    "tienda.agregar_productos (producto_4)\n",
    "\n"
   ]
  },
  {
   "cell_type": "code",
   "execution_count": 15,
   "metadata": {},
   "outputs": [
    {
     "name": "stdout",
     "output_type": "stream",
     "text": [
      "El producto 'melocotones' no se encuentra en el inventario.\n"
     ]
    }
   ],
   "source": [
    "tienda.ver_inventario ('melocotones')"
   ]
  },
  {
   "cell_type": "code",
   "execution_count": 16,
   "metadata": {},
   "outputs": [
    {
     "name": "stdout",
     "output_type": "stream",
     "text": [
      "Nombre: Aguacate, Precio: $4, Cantidad: 101\n"
     ]
    }
   ],
   "source": [
    "tienda.ver_inventario ('aguacate')"
   ]
  },
  {
   "cell_type": "markdown",
   "metadata": {},
   "source": [
    "3. `buscar_producto(self, nombre)`: Busca un producto en el inventario por nombre y muestra sus detalles si se encuentra. Debe recibir el nombre del producto como parámetro.\n",
    "\n",
    "    - Utiliza un bucle `for` para recorrer el inventario.\n",
    "    - Compara los nombres de los productos con el nombre proporcionado.\n",
    "    - Si se encuentra el producto, imprime sus detalles.\n",
    "    - Debe mostrar:\n",
    "\n",
    "        ```python\n",
    "        Nombre: Camisa, Precio: $20, Cantidad: 40\n",
    "        ```"
   ]
  },
  {
   "cell_type": "code",
   "execution_count": 27,
   "metadata": {},
   "outputs": [],
   "source": [
    "class Tienda_online:\n",
    "    \n",
    "    def __init__ (self, nombre):\n",
    "        \n",
    "        self.nombre = nombre\n",
    "        self.inventario = []\n",
    "        self.ventas_totales = 0.0 #float\n",
    "    \n",
    "    def agregar_productos(self, producto_nuevo):\n",
    "        \n",
    "        producto_existente = False\n",
    "        \n",
    "        for producto in self.inventario:\n",
    "            \n",
    "            if producto['nombre'] == producto_nuevo['nombre']:\n",
    "                \n",
    "                producto_existente = producto\n",
    "                \n",
    "                break\n",
    "        \n",
    "        if producto_existente:\n",
    "            \n",
    "            producto_existente['cantidad'] += producto_nuevo['cantidad']\n",
    "            print(f\"{producto_nuevo['nombre'].capitalize()} ya existe y su nueva cantidad es {producto_existente['cantidad']}\")\n",
    "        \n",
    "        else:\n",
    "            \n",
    "            self.inventario.append(producto_nuevo)\n",
    "            print(f\"Se ha añadido el producto nuevo con todos sus datos: {producto_nuevo}\")\n",
    "    \n",
    "    def buscar_producto(self, nombre):\n",
    "        \n",
    "        for producto in self.inventario:\n",
    "            \n",
    "            if producto['nombre'] == nombre:       \n",
    "                print(f\"Nombre: {producto['nombre'].capitalize()}, Precio: ${producto['precio']}, Cantidad: {producto['cantidad']}\")        \n",
    "                break"
   ]
  },
  {
   "cell_type": "code",
   "execution_count": 28,
   "metadata": {},
   "outputs": [],
   "source": [
    "tienda = Tienda_online ('DeTodounPoco')"
   ]
  },
  {
   "cell_type": "markdown",
   "metadata": {},
   "source": [
    "Tenemos que agregar los productos para que tenga sentido este tercer método. De lo contrario la lista estría vacía."
   ]
  },
  {
   "cell_type": "markdown",
   "metadata": {},
   "source": [
    "La cantidad de cada pieza de fruta va aumentando debido al número de jecuciones que realizo en cada comprobación."
   ]
  },
  {
   "cell_type": "code",
   "execution_count": 29,
   "metadata": {},
   "outputs": [
    {
     "name": "stdout",
     "output_type": "stream",
     "text": [
      "Se ha añadido el producto nuevo con todos sus datos: {'nombre': 'manzana', 'precio': 1, 'cantidad': 78}\n",
      "Se ha añadido el producto nuevo con todos sus datos: {'nombre': 'pera', 'precio': 0.5, 'cantidad': 180}\n",
      "Se ha añadido el producto nuevo con todos sus datos: {'nombre': 'aguacate', 'precio': 4, 'cantidad': 23}\n"
     ]
    }
   ],
   "source": [
    "producto_1 = {'nombre':'manzana', 'precio': 1, 'cantidad': 78}\n",
    "producto_2 = {'nombre':'pera', 'precio': 0.50, 'cantidad': 180}\n",
    "producto_3 = {'nombre':'aguacate', 'precio': 4, 'cantidad': 23}\n",
    "producto_4 = {'nombre':'aguacate', 'precio': 4, 'cantidad': 78}\n",
    "\n",
    "tienda.agregar_productos (producto_1)\n",
    "tienda.agregar_productos (producto_2)\n",
    "tienda.agregar_productos (producto_3)"
   ]
  },
  {
   "cell_type": "code",
   "execution_count": 30,
   "metadata": {},
   "outputs": [
    {
     "name": "stdout",
     "output_type": "stream",
     "text": [
      "Nombre: Manzana, Precio: $1, Cantidad: 78\n"
     ]
    }
   ],
   "source": [
    "tienda.buscar_producto('manzana')"
   ]
  },
  {
   "cell_type": "markdown",
   "metadata": {},
   "source": [
    "4. `actualizar_stock(self, nombre, cantidad)`: Actualiza el stock de un producto en el inventario. Debe recibir el nombre del producto y la cantidad a agregar o quitar como parámetros.\n",
    "\n",
    "    - Utiliza un bucle `for` para recorrer el inventario.\n",
    "    - Busca el producto por nombre.\n",
    "    - Actualiza la cantidad según la entrada del usuario.\n",
    "    - Si el producto no esta en el inventario muestra un mensaje indicándolo. \n"
   ]
  },
  {
   "cell_type": "code",
   "execution_count": 35,
   "metadata": {},
   "outputs": [],
   "source": [
    "def actualizar_stock (self,nombre_producto, cantidad_modificar):\n",
    "    \n",
    "    for producto in self.inventario:\n",
    "        \n",
    "        if producto ['nombre'].lower()== nombre_producto.lower():\n",
    "            \n",
    "            nueva_cantidad = producto[\"cantidad\"] + cantidad_modificar \n",
    "            \n",
    "            if nueva_cantidad < 0:\n",
    "                \n",
    "                print(f\"No se puede reducir {cantidad_modificar} unidades. Solo hay {producto['cantidad']} en stock.\")\n",
    "                \n",
    "                return  # Salimos sin modificar el stock\n",
    "            \n",
    "            producto[\"cantidad\"] = nueva_cantidad  # Guardamos la nueva cantidad en el diccionario\n",
    "            \n",
    "            print(f\"Nuevo stock de {producto['nombre'].capitalize()} : {producto['cantidad']} unidades.\")\n",
    "            \n",
    "            break  # Salimos del bucle\n",
    "        \n",
    "    else:\n",
    "        print (f\"El producto {producto} no existe en el inventario\")"
   ]
  },
  {
   "cell_type": "markdown",
   "metadata": {},
   "source": [
    "Añado esta función a la clase, actualiando un nuevo método."
   ]
  },
  {
   "cell_type": "code",
   "execution_count": 58,
   "metadata": {},
   "outputs": [],
   "source": [
    "class Tienda_online:\n",
    "    \n",
    "    def __init__ (self, nombre):\n",
    "        \n",
    "        self.nombre = nombre\n",
    "        self.inventario = []\n",
    "        self.ventas_totales = 0.0 #float\n",
    "    \n",
    "    def agregar_productos(self, producto_nuevo):\n",
    "        \n",
    "        producto_existente = False\n",
    "        \n",
    "        for producto in self.inventario:\n",
    "            \n",
    "            if producto['nombre'] == producto_nuevo['nombre']:\n",
    "                \n",
    "                producto_existente = producto\n",
    "                \n",
    "                break\n",
    "        \n",
    "        if producto_existente:\n",
    "            \n",
    "            producto_existente['cantidad'] += producto_nuevo['cantidad']\n",
    "            print(f\"{producto_nuevo['nombre'].capitalize()} ya existe y su nueva cantidad es {producto_existente['cantidad']}\")\n",
    "        \n",
    "        else:\n",
    "            \n",
    "            self.inventario.append(producto_nuevo)\n",
    "            print(f\"Se ha añadido el producto nuevo con todos sus datos: {producto_nuevo}\")\n",
    "    \n",
    "    def actualizar_stock (self,nombre_producto, cantidad_modificar):\n",
    "    \n",
    "        for producto in self.inventario:\n",
    "        \n",
    "            if producto ['nombre'].lower()== nombre_producto.lower():\n",
    "            \n",
    "                nueva_cantidad = producto[\"cantidad\"] + cantidad_modificar \n",
    "            \n",
    "                if nueva_cantidad < 0:\n",
    "                \n",
    "                    print(f\"No se puede reducir {cantidad_modificar} unidades. Solo hay {producto['cantidad']} en stock.\")\n",
    "                \n",
    "                    return  # Salimos sin modificar el stock\n",
    "            \n",
    "                producto[\"cantidad\"] = nueva_cantidad  # Guardamos la nueva cantidad en el diccionario\n",
    "            \n",
    "                print(f\"Nuevo stock de {producto['nombre'].capitalize()} : {producto['cantidad']} unidades.\")\n",
    "            \n",
    "                break  # Salimos del bucle\n",
    "        \n",
    "        else:\n",
    "            print (f\"El producto {nombre_producto} no existe en el inventario\")\n",
    "        "
   ]
  },
  {
   "cell_type": "code",
   "execution_count": 59,
   "metadata": {},
   "outputs": [],
   "source": [
    "tienda = Tienda_online ('DeTodounPoco')"
   ]
  },
  {
   "cell_type": "code",
   "execution_count": 60,
   "metadata": {},
   "outputs": [
    {
     "name": "stdout",
     "output_type": "stream",
     "text": [
      "Se ha añadido el producto nuevo con todos sus datos: {'nombre': 'manzana', 'precio': 1, 'cantidad': 78}\n",
      "Se ha añadido el producto nuevo con todos sus datos: {'nombre': 'pera', 'precio': 0.5, 'cantidad': 180}\n",
      "Se ha añadido el producto nuevo con todos sus datos: {'nombre': 'aguacate', 'precio': 4, 'cantidad': 23}\n"
     ]
    }
   ],
   "source": [
    "producto_1 = {'nombre':'manzana', 'precio': 1, 'cantidad': 78}\n",
    "producto_2 = {'nombre':'pera', 'precio': 0.50, 'cantidad': 180}\n",
    "producto_3 = {'nombre':'aguacate', 'precio': 4, 'cantidad': 23}\n",
    "producto_4 = {'nombre':'aguacate', 'precio': 4, 'cantidad': 78}\n",
    "\n",
    "tienda.agregar_productos (producto_1)\n",
    "tienda.agregar_productos (producto_2)\n",
    "tienda.agregar_productos (producto_3)"
   ]
  },
  {
   "cell_type": "code",
   "execution_count": 61,
   "metadata": {},
   "outputs": [
    {
     "name": "stdout",
     "output_type": "stream",
     "text": [
      "Nuevo stock de Manzana : 86 unidades.\n"
     ]
    }
   ],
   "source": [
    "tienda.actualizar_stock ('manzana', 8)"
   ]
  },
  {
   "cell_type": "code",
   "execution_count": 62,
   "metadata": {},
   "outputs": [
    {
     "name": "stdout",
     "output_type": "stream",
     "text": [
      "El producto melocotón no existe en el inventario\n"
     ]
    }
   ],
   "source": [
    "tienda.actualizar_stock ('melocotón', 10)"
   ]
  },
  {
   "cell_type": "code",
   "execution_count": 63,
   "metadata": {},
   "outputs": [
    {
     "name": "stdout",
     "output_type": "stream",
     "text": [
      "No se puede reducir -200 unidades. Solo hay 180 en stock.\n"
     ]
    }
   ],
   "source": [
    "tienda.actualizar_stock ('pera', -200)"
   ]
  },
  {
   "cell_type": "code",
   "execution_count": 64,
   "metadata": {},
   "outputs": [
    {
     "name": "stdout",
     "output_type": "stream",
     "text": [
      "Nuevo stock de Manzana : 78 unidades.\n"
     ]
    }
   ],
   "source": [
    "tienda.actualizar_stock ('manzana', -8)"
   ]
  }
 ],
 "metadata": {
  "kernelspec": {
   "display_name": "base",
   "language": "python",
   "name": "python3"
  },
  "language_info": {
   "codemirror_mode": {
    "name": "ipython",
    "version": 3
   },
   "file_extension": ".py",
   "mimetype": "text/x-python",
   "name": "python",
   "nbconvert_exporter": "python",
   "pygments_lexer": "ipython3",
   "version": "3.11.11"
  }
 },
 "nbformat": 4,
 "nbformat_minor": 2
}
