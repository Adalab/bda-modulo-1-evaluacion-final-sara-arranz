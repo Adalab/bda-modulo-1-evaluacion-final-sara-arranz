{
 "cells": [
  {
   "cell_type": "markdown",
   "metadata": {},
   "source": [
    "1. `agregar_producto(self, nombre, precio, cantidad)`: Este método agrega un producto al inventario o actualiza su cantidad si ya existe. Debe recibir el nombre, precio y cantidad del producto como parámetros. \n",
    "\n",
    "    - Itera a través del inventario y compara los nombres de los productos con el nombre proporcionado.\n",
    "    - Si el producto ya existe, actualiza la cantidad.\n",
    "    - Si no existe, agrega un nuevo producto al inventario."
   ]
  },
  {
   "cell_type": "code",
   "execution_count": 81,
   "metadata": {},
   "outputs": [],
   "source": [
    "class Tienda_online:\n",
    "    \n",
    "    def __init__ (self, nombre):\n",
    "        \n",
    "        self.nombre = nombre\n",
    "        self.inventario = []\n",
    "        self.ventas_totales = 0.0 #float\n",
    "    \n",
    "    def agregar_productos(self, producto_nuevo):\n",
    "        \n",
    "        # Necesitamos generar un código que sea capaz de reconocer un producto ya existete mientras itera \n",
    "        # y no nos lo devuelva en cada iteración que realice. Partimos de la base que el producto no existe \n",
    "        # y pedimos a Python que en nuestro inventario busque los productos que tenemos. \n",
    "        # Si lo encuentra rompemos el que siga iterando y pasamos a la condicción. \n",
    "        # Se trata de evitar iteraciones adicionales innecesarias. Por ello también ha sido necesario generar aquí la variable \n",
    "        # que después será necesaria en la sentencia de control. \n",
    "        \n",
    "        producto_existente = False\n",
    "        \n",
    "        for producto in self.inventario:\n",
    "            \n",
    "            if producto['nombre'] == producto_nuevo['nombre']:\n",
    "                \n",
    "                producto_existente = producto\n",
    "                \n",
    "                break\n",
    "        \n",
    "        if producto_existente:\n",
    "            \n",
    "            producto_existente['cantidad'] += producto_nuevo['cantidad']\n",
    "            print(f\"{producto_nuevo['nombre']} ya existe y su nueva cantidad es {producto_existente['cantidad']}\")\n",
    "        \n",
    "        else:\n",
    "            \n",
    "            self.inventario.append(producto_nuevo)\n",
    "            print(f\"Se ha añadido el producto nuevo con todos sus datos: {producto_nuevo}\")"
   ]
  },
  {
   "cell_type": "code",
   "execution_count": 82,
   "metadata": {},
   "outputs": [],
   "source": [
    "tienda = Tienda_online (\"DeTodounPoco\")"
   ]
  },
  {
   "cell_type": "code",
   "execution_count": 83,
   "metadata": {},
   "outputs": [],
   "source": [
    "producto_nuevo = {'nombre':'manzana', 'precio': 1, 'cantidad': 78}\n",
    "producto_nuevo2 = {'nombre':'pera', 'precio': 0.50, 'cantidad': 180}\n",
    "producto_nuevo3 = {'nombre':'aguacate', 'precio': 4, 'cantidad': 23}\n",
    "producto_nuevo4 = {'nombre':'aguacate', 'precio': 4, 'cantidad': 78}"
   ]
  },
  {
   "cell_type": "code",
   "execution_count": 84,
   "metadata": {},
   "outputs": [
    {
     "name": "stdout",
     "output_type": "stream",
     "text": [
      "Se ha añadido el producto nuevo con todos sus datos: {'nombre': 'manzana', 'precio': 1, 'cantidad': 78}\n"
     ]
    }
   ],
   "source": [
    "tienda.agregar_productos (producto_nuevo)"
   ]
  },
  {
   "cell_type": "code",
   "execution_count": 85,
   "metadata": {},
   "outputs": [
    {
     "name": "stdout",
     "output_type": "stream",
     "text": [
      "Se ha añadido el producto nuevo con todos sus datos: {'nombre': 'pera', 'precio': 0.5, 'cantidad': 180}\n"
     ]
    }
   ],
   "source": [
    "tienda.agregar_productos (producto_nuevo2)"
   ]
  },
  {
   "cell_type": "code",
   "execution_count": 86,
   "metadata": {},
   "outputs": [
    {
     "name": "stdout",
     "output_type": "stream",
     "text": [
      "Se ha añadido el producto nuevo con todos sus datos: {'nombre': 'aguacate', 'precio': 4, 'cantidad': 23}\n"
     ]
    }
   ],
   "source": [
    "tienda.agregar_productos (producto_nuevo3)\n"
   ]
  },
  {
   "cell_type": "code",
   "execution_count": 87,
   "metadata": {},
   "outputs": [
    {
     "name": "stdout",
     "output_type": "stream",
     "text": [
      "aguacate ya existe y su nueva cantidad es 101\n"
     ]
    }
   ],
   "source": [
    "tienda.agregar_productos (producto_nuevo4)\n"
   ]
  },
  {
   "cell_type": "markdown",
   "metadata": {},
   "source": [
    "2. `ver_inventario(self)`: Muestra el inventario de productos con sus detalles.\n",
    "\n",
    "   - Utiliza un bucle `for` para recorrer el inventario.\n",
    "   - Imprime los detalles (nombre, precio, cantidad) de cada producto.\n",
    "   - Debería verse:\n",
    "         \n",
    "        ```python\n",
    "            Nombre: Camisa, Precio: $20, Cantidad: 50\n",
    "            Nombre: Pantalón, Precio: $30, Cantidad: 30\n",
    "            Nombre: Zapatos, Precio: $50, Cantidad: 40\n",
    "            Nombre: Camisa, Precio: $20, Cantidad: 50"
   ]
  },
  {
   "cell_type": "code",
   "execution_count": null,
   "metadata": {},
   "outputs": [],
   "source": [
    "class Tienda_online:\n",
    "    \n",
    "    def __init__ (self, nombre):\n",
    "        \n",
    "        self.nombre = nombre\n",
    "        self.inventario = []\n",
    "        self.ventas_totales = 0.0 #float\n",
    "    \n",
    "    def agregar_productos(self, producto_nuevo):\n",
    "        \n",
    "        # Necesitamos generar un código que sea capaz de reconocer un producto ya existete y \n",
    "        # asegurarnos que solo exista uno, no lo duplique... en cada iteración.. \n",
    "        \n",
    "        # Partimos de la base que el producto no existe \n",
    "        # y pedimos a Python que en nuestro inventario busque los productos que tenemos mediante la key 'nombre'. \n",
    "        \n",
    "        # Si lo encuentra rompemos el que siga iterando y pasamos a la condicción. \n",
    "        \n",
    "        producto_existente = False\n",
    "        \n",
    "        for producto in self.inventario:\n",
    "            \n",
    "            if producto['nombre'] == producto_nuevo['nombre']:\n",
    "                \n",
    "                producto_existente = producto\n",
    "                \n",
    "                break\n",
    "        \n",
    "        if producto_existente:\n",
    "            \n",
    "            producto_existente['cantidad'] += producto_nuevo['cantidad']\n",
    "            print(f\"{producto_nuevo['nombre'].capitalize()} ya existe y su nueva cantidad es {producto_existente['cantidad']}\")\n",
    "        \n",
    "        else:\n",
    "            \n",
    "            self.inventario.append(producto_nuevo)\n",
    "            print(f\"Se ha añadido el producto nuevo con todos sus datos: {producto_nuevo}\")\n",
    "    \n",
    "    def ver_inventario(self):\n",
    "        for producto in self.inventario:\n",
    "            print(f\"Nombre: {producto['nombre'].capitalize()}, Precio: ${producto['precio']}, Cantidad: {producto['cantidad']}\")\n",
    "    "
   ]
  },
  {
   "cell_type": "code",
   "execution_count": 93,
   "metadata": {},
   "outputs": [],
   "source": [
    "tienda = Tienda_online ('DeTodounPoco')"
   ]
  },
  {
   "cell_type": "code",
   "execution_count": 94,
   "metadata": {},
   "outputs": [
    {
     "name": "stdout",
     "output_type": "stream",
     "text": [
      "Se ha añadido el producto nuevo con todos sus datos: {'nombre': 'manzana', 'precio': 1, 'cantidad': 78}\n",
      "Se ha añadido el producto nuevo con todos sus datos: {'nombre': 'pera', 'precio': 0.5, 'cantidad': 180}\n",
      "Se ha añadido el producto nuevo con todos sus datos: {'nombre': 'aguacate', 'precio': 4, 'cantidad': 23}\n",
      "Aguacate ya existe y su nueva cantidad es 101\n"
     ]
    }
   ],
   "source": [
    "producto_1 = {'nombre':'manzana', 'precio': 1, 'cantidad': 78}\n",
    "producto_2 = {'nombre':'pera', 'precio': 0.50, 'cantidad': 180}\n",
    "producto_3 = {'nombre':'aguacate', 'precio': 4, 'cantidad': 23}\n",
    "producto_4 = {'nombre':'aguacate', 'precio': 4, 'cantidad': 78}\n",
    "\n",
    "tienda.agregar_productos (producto_1)\n",
    "tienda.agregar_productos (producto_2)\n",
    "tienda.agregar_productos (producto_3)\n",
    "tienda.agregar_productos (producto_4)\n",
    "\n"
   ]
  },
  {
   "cell_type": "code",
   "execution_count": 95,
   "metadata": {},
   "outputs": [
    {
     "name": "stdout",
     "output_type": "stream",
     "text": [
      "Nombre: Manzana, Precio: $1, Cantidad: 78\n",
      "Nombre: Pera, Precio: $0.5, Cantidad: 180\n",
      "Nombre: Aguacate, Precio: $4, Cantidad: 101\n"
     ]
    }
   ],
   "source": [
    "tienda.ver_inventario ()"
   ]
  },
  {
   "cell_type": "markdown",
   "metadata": {},
   "source": [
    "3. `buscar_producto(self, nombre)`: Busca un producto en el inventario por nombre y muestra sus detalles si se encuentra. Debe recibir el nombre del producto como parámetro.\n",
    "\n",
    "    - Utiliza un bucle `for` para recorrer el inventario.\n",
    "    - Compara los nombres de los productos con el nombre proporcionado.\n",
    "    - Si se encuentra el producto, imprime sus detalles.\n",
    "    - Debe mostrar:\n",
    "\n",
    "        ```python\n",
    "        Nombre: Camisa, Precio: $20, Cantidad: 40\n",
    "        ```"
   ]
  },
  {
   "cell_type": "code",
   "execution_count": 47,
   "metadata": {},
   "outputs": [],
   "source": [
    "class Tienda_online:\n",
    "    \n",
    "    def __init__ (self, nombre):\n",
    "        \n",
    "        self.nombre = nombre\n",
    "        self.inventario = []\n",
    "        self.ventas_totales = 0.0 #float\n",
    "    \n",
    "    def agregar_productos(self, producto_nuevo):\n",
    "        \n",
    "        # Necesitamos generar un código que sea capaz de reconocer un producto ya existete y \n",
    "        # asegurarnos que solo exista uno, no lo duplique... en cada iteración.. \n",
    "        \n",
    "        # Partimos de la base que el producto no existe \n",
    "        # y pedimos a Python que en nuestro inventario busque los productos que tenemos mediante la key 'nombre'. \n",
    "        \n",
    "        # Si lo encuentra rompemos el que siga iterando y pasamos a la condicción. \n",
    "        \n",
    "        producto_existente = False\n",
    "        \n",
    "        for producto in self.inventario:\n",
    "            \n",
    "            if producto['nombre'] == producto_nuevo['nombre']:\n",
    "                \n",
    "                producto_existente = producto\n",
    "                \n",
    "                break\n",
    "        \n",
    "        if producto_existente:\n",
    "            \n",
    "            producto_existente['cantidad'] += producto_nuevo['cantidad']\n",
    "            print(f\"{producto_nuevo['nombre'].capitalize()} ya existe y su nueva cantidad es {producto_existente['cantidad']}\")\n",
    "        \n",
    "        else:\n",
    "            \n",
    "            self.inventario.append(producto_nuevo)\n",
    "            print(f\"Se ha añadido el producto nuevo con todos sus datos: {producto_nuevo}\")\n",
    "    \n",
    "    def ver_inventario(self):\n",
    "        for producto in self.inventario:\n",
    "            print(f\"Nombre: {producto['nombre'].capitalize()}, Precio: ${producto['precio']}, Cantidad: {producto['cantidad']}\")\n",
    "    \n",
    "    def buscar_producto(self, nombre):\n",
    "        \n",
    "        for producto in self.inventario:\n",
    "            \n",
    "            if producto['nombre'] == nombre:       \n",
    "                print(f\"Nombre: {producto['nombre'].capitalize()}, Precio: ${producto['precio']}, Cantidad: {producto['cantidad']}\")        \n",
    "                break"
   ]
  },
  {
   "cell_type": "code",
   "execution_count": 48,
   "metadata": {},
   "outputs": [],
   "source": [
    "tienda = Tienda_online ('DeTodounPoco')"
   ]
  },
  {
   "cell_type": "code",
   "execution_count": 49,
   "metadata": {},
   "outputs": [
    {
     "name": "stdout",
     "output_type": "stream",
     "text": [
      "Se ha añadido el producto nuevo con todos sus datos: {'nombre': 'manzana', 'precio': 1, 'cantidad': 78}\n",
      "Se ha añadido el producto nuevo con todos sus datos: {'nombre': 'pera', 'precio': 0.5, 'cantidad': 180}\n",
      "Se ha añadido el producto nuevo con todos sus datos: {'nombre': 'aguacate', 'precio': 4, 'cantidad': 23}\n",
      "Aguacate ya existe y su nueva cantidad es 101\n"
     ]
    }
   ],
   "source": [
    "producto_1 = {'nombre':'manzana', 'precio': 1, 'cantidad': 78}\n",
    "producto_2 = {'nombre':'pera', 'precio': 0.50, 'cantidad': 180}\n",
    "producto_3 = {'nombre':'aguacate', 'precio': 4, 'cantidad': 23}\n",
    "producto_4 = {'nombre':'aguacate', 'precio': 4, 'cantidad': 78}\n",
    "\n",
    "tienda.agregar_productos (producto_1)\n",
    "tienda.agregar_productos (producto_2)\n",
    "tienda.agregar_productos (producto_3)\n",
    "tienda.agregar_productos (producto_4)"
   ]
  },
  {
   "cell_type": "code",
   "execution_count": 50,
   "metadata": {},
   "outputs": [
    {
     "name": "stdout",
     "output_type": "stream",
     "text": [
      "Nombre: Manzana, Precio: $1, Cantidad: 78\n"
     ]
    }
   ],
   "source": [
    "tienda.buscar_producto('manzana')"
   ]
  }
 ],
 "metadata": {
  "kernelspec": {
   "display_name": "base",
   "language": "python",
   "name": "python3"
  },
  "language_info": {
   "codemirror_mode": {
    "name": "ipython",
    "version": 3
   },
   "file_extension": ".py",
   "mimetype": "text/x-python",
   "name": "python",
   "nbconvert_exporter": "python",
   "pygments_lexer": "ipython3",
   "version": "3.11.11"
  }
 },
 "nbformat": 4,
 "nbformat_minor": 2
}
