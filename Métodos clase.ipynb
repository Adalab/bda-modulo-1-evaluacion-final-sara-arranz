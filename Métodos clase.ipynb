{
 "cells": [
  {
   "cell_type": "markdown",
   "metadata": {},
   "source": [
    "1. `agregar_producto(self, nombre, precio, cantidad)`: Este método agrega un producto al inventario o actualiza su cantidad si ya existe. Debe recibir el nombre, precio y cantidad del producto como parámetros. \n",
    "\n",
    "    - Itera a través del inventario y compara los nombres de los productos con el nombre proporcionado.\n",
    "    - Si el producto ya existe, actualiza la cantidad.\n",
    "    - Si no existe, agrega un nuevo producto al inventario."
   ]
  },
  {
   "cell_type": "code",
   "execution_count": 7,
   "metadata": {},
   "outputs": [],
   "source": [
    "class Tienda_online:\n",
    "    \n",
    "    def __init__ (self, nombre):\n",
    "        \n",
    "        self.nombre = nombre\n",
    "        self.inventario = []\n",
    "        self.ventas_totales = 0.0 #float\n",
    "    \n",
    "    # Creamos el método que nos permita agregar cualquier tipo de producto en cualquier momento.\n",
    "    \n",
    "    def agregar_productos(self, producto_nuevo):\n",
    "        \n",
    "        # Necesitamos generar un código que sea capaz de reconocer un producto ya existete mientras itera \n",
    "        # y no nos lo devuelva en cada iteración que realice. Se trata de evitar iteraciones adicionales innecesarias. \n",
    "        \n",
    "        producto_existente = None \n",
    "        \n",
    "        #Ahora necesitamos iterar sobre self.inventario (lista sobre la que podemos iterar). \n",
    "        # En cada iteración, la variable producto (que decidamos introducir, en cada momentos será una variable diferente)\n",
    "        # tomará un elemento de self.inventario.\n",
    "        \n",
    "        for producto in self.inventario:\n",
    "            \n",
    "            if producto['nombre'] == producto_nuevo['nombre']:\n",
    "                \n",
    "                producto_existente = producto\n",
    "                \n",
    "                break # Romepemos este condicional una vez sepamos si el producto que vamos a añadir ya existe o no en nuestra lista. \n",
    "        \n",
    "        if producto_existente:\n",
    "            \n",
    "            producto_existente['cantidad'] += producto_nuevo['cantidad']\n",
    "            print(f\"{producto_nuevo['nombre'].capitalize()} ya existe y su nueva cantidad es {producto_existente['cantidad']}\")\n",
    "        \n",
    "        else:\n",
    "            \n",
    "            self.inventario.append(producto_nuevo)\n",
    "            print(f\"Se ha añadido el producto nuevo con todos sus datos: {producto_nuevo}\")"
   ]
  },
  {
   "cell_type": "markdown",
   "metadata": {},
   "source": [
    "Para convertir tienda en una instancia de Tienda_online, y así poder acceder a sus métodos y atributos. Generamos el objeto"
   ]
  },
  {
   "cell_type": "code",
   "execution_count": 8,
   "metadata": {},
   "outputs": [],
   "source": [
    "tienda = Tienda_online (\"DeTodounPoco\")"
   ]
  },
  {
   "cell_type": "markdown",
   "metadata": {},
   "source": [
    "Generamos productos."
   ]
  },
  {
   "cell_type": "code",
   "execution_count": 9,
   "metadata": {},
   "outputs": [],
   "source": [
    "producto1 = {'nombre':'manzana', 'precio': 1, 'cantidad': 78}\n",
    "producto2 = {'nombre':'pera', 'precio': 0.50, 'cantidad': 180}\n",
    "producto3 = {'nombre':'aguacate', 'precio': 4, 'cantidad': 23}\n",
    "producto4 = {'nombre':'aguacate', 'precio': 4, 'cantidad': 78}"
   ]
  },
  {
   "cell_type": "markdown",
   "metadata": {},
   "source": [
    "Llamos al método por cada producto que queremos añadir a nuestro inventario."
   ]
  },
  {
   "cell_type": "code",
   "execution_count": 10,
   "metadata": {},
   "outputs": [
    {
     "name": "stdout",
     "output_type": "stream",
     "text": [
      "Se ha añadido el producto nuevo con todos sus datos: {'nombre': 'manzana', 'precio': 1, 'cantidad': 78}\n"
     ]
    }
   ],
   "source": [
    "tienda.agregar_productos (producto1)"
   ]
  },
  {
   "cell_type": "code",
   "execution_count": 11,
   "metadata": {},
   "outputs": [
    {
     "name": "stdout",
     "output_type": "stream",
     "text": [
      "Se ha añadido el producto nuevo con todos sus datos: {'nombre': 'pera', 'precio': 0.5, 'cantidad': 180}\n"
     ]
    }
   ],
   "source": [
    "tienda.agregar_productos (producto2)"
   ]
  },
  {
   "cell_type": "code",
   "execution_count": 12,
   "metadata": {},
   "outputs": [
    {
     "name": "stdout",
     "output_type": "stream",
     "text": [
      "Se ha añadido el producto nuevo con todos sus datos: {'nombre': 'aguacate', 'precio': 4, 'cantidad': 23}\n"
     ]
    }
   ],
   "source": [
    "tienda.agregar_productos (producto3)\n"
   ]
  },
  {
   "cell_type": "code",
   "execution_count": 13,
   "metadata": {},
   "outputs": [
    {
     "name": "stdout",
     "output_type": "stream",
     "text": [
      "Aguacate ya existe y su nueva cantidad es 101\n"
     ]
    }
   ],
   "source": [
    "tienda.agregar_productos (producto4)\n"
   ]
  },
  {
   "cell_type": "markdown",
   "metadata": {},
   "source": [
    "2. `ver_inventario(self)`: Muestra el inventario de productos con sus detalles.\n",
    "\n",
    "   - Utiliza un bucle `for` para recorrer el inventario.\n",
    "   - Imprime los detalles (nombre, precio, cantidad) de cada producto.\n",
    "   - Debería verse:\n",
    "         \n",
    "        ```python\n",
    "            Nombre: Camisa, Precio: $20, Cantidad: 50\n",
    "            Nombre: Pantalón, Precio: $30, Cantidad: 30\n",
    "            Nombre: Zapatos, Precio: $50, Cantidad: 40\n",
    "            Nombre: Camisa, Precio: $20, Cantidad: 50"
   ]
  },
  {
   "cell_type": "code",
   "execution_count": 14,
   "metadata": {},
   "outputs": [],
   "source": [
    "class Tienda_online:\n",
    "    \n",
    "    def __init__ (self, nombre):\n",
    "        \n",
    "        self.nombre = nombre\n",
    "        self.inventario = []\n",
    "        self.ventas_totales = 0.0 #float\n",
    "    \n",
    "    def agregar_productos(self, producto_nuevo):\n",
    "        \n",
    "        producto_existente = False\n",
    "        \n",
    "        for producto in self.inventario:\n",
    "            \n",
    "            if producto['nombre'] == producto_nuevo['nombre']:\n",
    "                \n",
    "                producto_existente = producto\n",
    "                \n",
    "                break\n",
    "        \n",
    "        if producto_existente:\n",
    "            \n",
    "            producto_existente['cantidad'] += producto_nuevo['cantidad']\n",
    "            print(f\"{producto_nuevo['nombre'].capitalize()} ya existe y su nueva cantidad es {producto_existente['cantidad']}\")\n",
    "        \n",
    "        else:\n",
    "            \n",
    "            self.inventario.append(producto_nuevo)\n",
    "            print(f\"Se ha añadido el producto nuevo con todos sus datos: {producto_nuevo}\")\n",
    "    \n",
    "    \n",
    "    def ver_inventario(self):\n",
    "    \n",
    "        for producto in self.inventario:\n",
    "    \n",
    "            print(f\"Nombre: {producto['nombre'].capitalize()}, Precio: ${producto['precio']}, Cantidad: {producto['cantidad']}\")"
   ]
  },
  {
   "cell_type": "code",
   "execution_count": 15,
   "metadata": {},
   "outputs": [],
   "source": [
    "tienda = Tienda_online ('DeTodounPoco')"
   ]
  },
  {
   "cell_type": "code",
   "execution_count": 16,
   "metadata": {},
   "outputs": [
    {
     "name": "stdout",
     "output_type": "stream",
     "text": [
      "Se ha añadido el producto nuevo con todos sus datos: {'nombre': 'manzana', 'precio': 1, 'cantidad': 78}\n",
      "Se ha añadido el producto nuevo con todos sus datos: {'nombre': 'pera', 'precio': 0.5, 'cantidad': 180}\n",
      "Se ha añadido el producto nuevo con todos sus datos: {'nombre': 'aguacate', 'precio': 4, 'cantidad': 23}\n",
      "Aguacate ya existe y su nueva cantidad es 101\n"
     ]
    }
   ],
   "source": [
    "producto_1 = {'nombre':'manzana', 'precio': 1, 'cantidad': 78}\n",
    "producto_2 = {'nombre':'pera', 'precio': 0.50, 'cantidad': 180}\n",
    "producto_3 = {'nombre':'aguacate', 'precio': 4, 'cantidad': 23}\n",
    "producto_4 = {'nombre':'aguacate', 'precio': 4, 'cantidad': 78}\n",
    "\n",
    "tienda.agregar_productos (producto_1)\n",
    "tienda.agregar_productos (producto_2)\n",
    "tienda.agregar_productos (producto_3)\n",
    "tienda.agregar_productos (producto_4)"
   ]
  },
  {
   "cell_type": "code",
   "execution_count": 17,
   "metadata": {},
   "outputs": [
    {
     "name": "stdout",
     "output_type": "stream",
     "text": [
      "Nombre: Manzana, Precio: $1, Cantidad: 78\n",
      "Nombre: Pera, Precio: $0.5, Cantidad: 180\n",
      "Nombre: Aguacate, Precio: $4, Cantidad: 101\n"
     ]
    }
   ],
   "source": [
    "tienda.ver_inventario ()"
   ]
  },
  {
   "cell_type": "markdown",
   "metadata": {},
   "source": [
    "3. `buscar_producto(self, nombre)`: Busca un producto en el inventario por nombre y muestra sus detalles si se encuentra. Debe recibir el nombre del producto como parámetro.\n",
    "\n",
    "    - Utiliza un bucle `for` para recorrer el inventario.\n",
    "    - Compara los nombres de los productos con el nombre proporcionado.\n",
    "    - Si se encuentra el producto, imprime sus detalles.\n",
    "    - Debe mostrar:\n",
    "\n",
    "        ```python\n",
    "        Nombre: Camisa, Precio: $20, Cantidad: 40"
   ]
  },
  {
   "cell_type": "code",
   "execution_count": 18,
   "metadata": {},
   "outputs": [],
   "source": [
    "class Tienda_online:\n",
    "    \n",
    "    def __init__ (self, nombre):\n",
    "        \n",
    "        self.nombre = nombre\n",
    "        self.inventario = []\n",
    "        self.ventas_totales = 0.0 #float\n",
    "    \n",
    "    def agregar_productos(self, producto_nuevo):\n",
    "        \n",
    "        producto_existente = False\n",
    "        \n",
    "        for producto in self.inventario:\n",
    "            \n",
    "            if producto['nombre'] == producto_nuevo['nombre']:\n",
    "                \n",
    "                producto_existente = producto\n",
    "                \n",
    "                break\n",
    "        \n",
    "        if producto_existente:\n",
    "            \n",
    "            producto_existente['cantidad'] += producto_nuevo['cantidad']\n",
    "            print(f\"{producto_nuevo['nombre'].capitalize()} ya existe y su nueva cantidad es {producto_existente['cantidad']}\")\n",
    "        \n",
    "        else:\n",
    "            \n",
    "            self.inventario.append(producto_nuevo)\n",
    "            print(f\"Se ha añadido el producto nuevo con todos sus datos: {producto_nuevo}\")\n",
    "    \n",
    "    # Cramos nuevo método, de nuevo con un bucle for porque necesitamos iterar para realizar las comprobaciones dentro de la lista inventario.\n",
    "    # El método nos permite imprimir en cualquier momento un producto determinado si ya existe en nuestro inventario.\n",
    "    \n",
    "    def buscar_producto(self, nombre_producto): # Añadimos parámetro a nuestra función\n",
    "        \n",
    "        encontrado = False  # Incluyo un booleano para controlar la situación de parada. Comenzamos suponiendo que el producto no está:\n",
    "\n",
    "        for producto in self.inventario:\n",
    "            \n",
    "            if producto[\"nombre\"].lower() == nombre_producto.lower():  # Si encontramos el producto\n",
    "                \n",
    "                print(f\"Nombre: {producto['nombre'].capitalize()}, Precio: ${producto['precio']}, Cantidad: {producto['cantidad']}\")\n",
    "                \n",
    "                encontrado = True  # Marcamos que lo hemos encontrado, modificamos el booleano de partida.\n",
    "            \n",
    "                break  # Salimos del bucle, ya que no necesitamos seguir buscando\n",
    "\n",
    "        if not encontrado:  # Si seguimos en la situación de partida:\n",
    "            \n",
    "            print(f\"El producto '{nombre_producto}' no se encuentra en el inventario.\")\n"
   ]
  },
  {
   "cell_type": "code",
   "execution_count": 19,
   "metadata": {},
   "outputs": [],
   "source": [
    "tienda = Tienda_online ('DeTodounPoco')"
   ]
  },
  {
   "cell_type": "code",
   "execution_count": 20,
   "metadata": {},
   "outputs": [
    {
     "name": "stdout",
     "output_type": "stream",
     "text": [
      "Se ha añadido el producto nuevo con todos sus datos: {'nombre': 'manzana', 'precio': 1, 'cantidad': 78}\n",
      "Se ha añadido el producto nuevo con todos sus datos: {'nombre': 'pera', 'precio': 0.5, 'cantidad': 180}\n",
      "Se ha añadido el producto nuevo con todos sus datos: {'nombre': 'aguacate', 'precio': 4, 'cantidad': 23}\n",
      "Aguacate ya existe y su nueva cantidad es 101\n"
     ]
    }
   ],
   "source": [
    "producto_1 = {'nombre':'manzana', 'precio': 1, 'cantidad': 78}\n",
    "producto_2 = {'nombre':'pera', 'precio': 0.50, 'cantidad': 180}\n",
    "producto_3 = {'nombre':'aguacate', 'precio': 4, 'cantidad': 23}\n",
    "producto_4 = {'nombre':'aguacate', 'precio': 4, 'cantidad': 78}\n",
    "\n",
    "tienda.agregar_productos (producto_1)\n",
    "tienda.agregar_productos (producto_2)\n",
    "tienda.agregar_productos (producto_3)\n",
    "tienda.agregar_productos (producto_4)\n",
    "\n"
   ]
  },
  {
   "cell_type": "code",
   "execution_count": 21,
   "metadata": {},
   "outputs": [
    {
     "name": "stdout",
     "output_type": "stream",
     "text": [
      "El producto 'melocotones' no se encuentra en el inventario.\n"
     ]
    }
   ],
   "source": [
    "tienda.buscar_producto('melocotones')"
   ]
  },
  {
   "cell_type": "code",
   "execution_count": 22,
   "metadata": {},
   "outputs": [
    {
     "name": "stdout",
     "output_type": "stream",
     "text": [
      "Nombre: Aguacate, Precio: $4, Cantidad: 101\n"
     ]
    }
   ],
   "source": [
    "tienda.buscar_producto('aguacate')"
   ]
  },
  {
   "cell_type": "code",
   "execution_count": 23,
   "metadata": {},
   "outputs": [],
   "source": [
    "tienda = Tienda_online ('DeTodounPoco')"
   ]
  },
  {
   "cell_type": "markdown",
   "metadata": {},
   "source": [
    "4. `actualizar_stock(self, nombre, cantidad)`: Actualiza el stock de un producto en el inventario. Debe recibir el nombre del producto y la cantidad a agregar o quitar como parámetros.\n",
    "\n",
    "    - Utiliza un bucle `for` para recorrer el inventario.\n",
    "    - Busca el producto por nombre.\n",
    "    - Actualiza la cantidad según la entrada del usuario.\n",
    "    - Si el producto no esta en el inventario muestra un mensaje indicándolo. \n"
   ]
  },
  {
   "cell_type": "code",
   "execution_count": 24,
   "metadata": {},
   "outputs": [],
   "source": [
    "def actualizar_stock (self,nombre_producto, cantidad_modificar):\n",
    "    \n",
    "    for producto in self.inventario:\n",
    "        \n",
    "        if producto ['nombre'].lower()== nombre_producto.lower():\n",
    "            \n",
    "            nueva_cantidad = producto[\"cantidad\"] + cantidad_modificar \n",
    "            \n",
    "            if nueva_cantidad < 0:\n",
    "                \n",
    "                print(f\"No se puede reducir {cantidad_modificar} unidades. Solo hay {producto['cantidad']} en stock.\")\n",
    "                \n",
    "                return  # Salimos sin modificar el stock\n",
    "            \n",
    "            producto[\"cantidad\"] = nueva_cantidad  # Guardamos la nueva cantidad en el diccionario\n",
    "            \n",
    "            print(f\"Nuevo stock de {producto['nombre'].capitalize()} : {producto['cantidad']} unidades.\")\n",
    "            \n",
    "            break  # Salimos del bucle\n",
    "        \n",
    "    else:\n",
    "        print (f\"El producto {producto} no existe en el inventario\")"
   ]
  },
  {
   "cell_type": "markdown",
   "metadata": {},
   "source": [
    "Añado esta función a la clase, actualizando con un nuevo método."
   ]
  },
  {
   "cell_type": "code",
   "execution_count": 25,
   "metadata": {},
   "outputs": [],
   "source": [
    "class Tienda_online:\n",
    "    \n",
    "    def __init__ (self, nombre):\n",
    "        \n",
    "        self.nombre = nombre\n",
    "        self.inventario = []\n",
    "        self.ventas_totales = 0.0 #float\n",
    "    \n",
    "    def agregar_productos(self, producto_nuevo):\n",
    "        \n",
    "        producto_existente = False\n",
    "        \n",
    "        for producto in self.inventario:\n",
    "            \n",
    "            if producto['nombre'] == producto_nuevo['nombre']:\n",
    "                \n",
    "                producto_existente = producto\n",
    "                \n",
    "                break\n",
    "        \n",
    "        if producto_existente:\n",
    "            \n",
    "            producto_existente['cantidad'] += producto_nuevo['cantidad']\n",
    "            print(f\"{producto_nuevo['nombre'].capitalize()} ya existe y su nueva cantidad es {producto_existente['cantidad']}\")\n",
    "        \n",
    "        else:\n",
    "            \n",
    "            self.inventario.append(producto_nuevo)\n",
    "            print(f\"Se ha añadido el producto nuevo con todos sus datos: {producto_nuevo}\")\n",
    "    \n",
    "    def actualizar_stock (self,nombre_producto, cantidad_modificar):\n",
    "    \n",
    "        for producto in self.inventario:\n",
    "        \n",
    "            if producto ['nombre'].lower()== nombre_producto.lower():\n",
    "            \n",
    "                nueva_cantidad = producto[\"cantidad\"] + cantidad_modificar \n",
    "            \n",
    "                if nueva_cantidad < 0:\n",
    "                \n",
    "                    print(f\"No se puede reducir {cantidad_modificar} unidades. Solo hay {producto['cantidad']} en stock.\")\n",
    "                \n",
    "                    return  # Salimos sin modificar el stock\n",
    "            \n",
    "                producto[\"cantidad\"] = nueva_cantidad  # Guardamos la nueva cantidad en el diccionario\n",
    "            \n",
    "                print(f\"Nuevo stock de {producto['nombre'].capitalize()} : {producto['cantidad']} unidades.\")\n",
    "            \n",
    "                break  # Salimos del bucle\n",
    "        \n",
    "        else:\n",
    "            print (f\"El producto {nombre_producto} no existe en el inventario\")\n",
    "        "
   ]
  },
  {
   "cell_type": "code",
   "execution_count": 26,
   "metadata": {},
   "outputs": [],
   "source": [
    "tienda = Tienda_online ('DeTodounPoco')"
   ]
  },
  {
   "cell_type": "code",
   "execution_count": 27,
   "metadata": {},
   "outputs": [
    {
     "name": "stdout",
     "output_type": "stream",
     "text": [
      "Se ha añadido el producto nuevo con todos sus datos: {'nombre': 'manzana', 'precio': 1, 'cantidad': 78}\n",
      "Se ha añadido el producto nuevo con todos sus datos: {'nombre': 'pera', 'precio': 0.5, 'cantidad': 180}\n",
      "Se ha añadido el producto nuevo con todos sus datos: {'nombre': 'aguacate', 'precio': 4, 'cantidad': 23}\n"
     ]
    }
   ],
   "source": [
    "producto_1 = {'nombre':'manzana', 'precio': 1, 'cantidad': 78}\n",
    "producto_2 = {'nombre':'pera', 'precio': 0.50, 'cantidad': 180}\n",
    "producto_3 = {'nombre':'aguacate', 'precio': 4, 'cantidad': 23}\n",
    "producto_4 = {'nombre':'aguacate', 'precio': 4, 'cantidad': 78}\n",
    "\n",
    "tienda.agregar_productos (producto_1)\n",
    "tienda.agregar_productos (producto_2)\n",
    "tienda.agregar_productos (producto_3)"
   ]
  },
  {
   "cell_type": "code",
   "execution_count": 28,
   "metadata": {},
   "outputs": [
    {
     "name": "stdout",
     "output_type": "stream",
     "text": [
      "Nuevo stock de Manzana : 86 unidades.\n"
     ]
    }
   ],
   "source": [
    "tienda.actualizar_stock ('manzana', 8)"
   ]
  },
  {
   "cell_type": "code",
   "execution_count": 29,
   "metadata": {},
   "outputs": [
    {
     "name": "stdout",
     "output_type": "stream",
     "text": [
      "El producto melocotón no existe en el inventario\n"
     ]
    }
   ],
   "source": [
    "tienda.actualizar_stock ('melocotón', 10)"
   ]
  },
  {
   "cell_type": "code",
   "execution_count": 30,
   "metadata": {},
   "outputs": [
    {
     "name": "stdout",
     "output_type": "stream",
     "text": [
      "No se puede reducir -200 unidades. Solo hay 180 en stock.\n"
     ]
    }
   ],
   "source": [
    "tienda.actualizar_stock ('pera', -200)"
   ]
  },
  {
   "cell_type": "code",
   "execution_count": 31,
   "metadata": {},
   "outputs": [
    {
     "name": "stdout",
     "output_type": "stream",
     "text": [
      "Nuevo stock de Manzana : 78 unidades.\n"
     ]
    }
   ],
   "source": [
    "tienda.actualizar_stock ('manzana', -8)"
   ]
  },
  {
   "cell_type": "markdown",
   "metadata": {},
   "source": [
    "5. `eliminar_producto(self, nombre)`: Elimina un producto del inventario por nombre. Debe recibir el nombre del producto como parámetro.\n",
    "\n",
    "    - Utiliza un bucle `for` para recorrer el inventario.\n",
    "    - Busca el producto por nombre.\n",
    "    - Elimina el producto del inventario si existe.\n",
    "    - Si el producto no esta en el inventario muestra un mensaje indicándolo. "
   ]
  },
  {
   "cell_type": "code",
   "execution_count": 32,
   "metadata": {},
   "outputs": [
    {
     "name": "stdout",
     "output_type": "stream",
     "text": [
      "[{'nombre': 'manzana', 'precio': 1, 'cantidad': 78}, {'nombre': 'pera', 'precio': 0.5, 'cantidad': 180}, {'nombre': 'aguacate', 'precio': 4, 'cantidad': 23}, {'nombre': 'aguacate', 'precio': 4, 'cantidad': 78}]\n",
      "Tu producto se encuentra en el inventario\n",
      "El producto que deseas eliminar es manzana\n",
      "El producto manzana ha sido eliminado de tu inventario.\n",
      "[{'nombre': 'pera', 'precio': 0.5, 'cantidad': 180}, {'nombre': 'aguacate', 'precio': 4, 'cantidad': 23}, {'nombre': 'aguacate', 'precio': 4, 'cantidad': 78}]\n"
     ]
    }
   ],
   "source": [
    "inventario = [{'nombre':'manzana', 'precio': 1, 'cantidad': 78}, {'nombre':'pera', 'precio': 0.50, 'cantidad': 180}, \n",
    "{'nombre':'aguacate', 'precio': 4, 'cantidad': 23}, {'nombre':'aguacate', 'precio': 4, 'cantidad': 78}]\n",
    "\n",
    "print (inventario)\n",
    "\n",
    "def eliminar_producto (nombre_producto):\n",
    "        \n",
    "        for i, producto in enumerate(inventario): \n",
    "            \n",
    "            print (\"Tu producto se encuentra en el inventario\")\n",
    "        \n",
    "            if nombre_producto.lower() == producto ['nombre'].lower():\n",
    "            \n",
    "                print(f\"El producto que deseas eliminar es {nombre_producto}\")\n",
    "        \n",
    "                inventario.pop(i)\n",
    "            \n",
    "                print(f\"El producto {nombre_producto} ha sido eliminado de tu inventario.\")\n",
    "                \n",
    "                break\n",
    "        \n",
    "        else:\n",
    "    \n",
    "            print(f\"El producto {nombre_producto} no se encuentra en el inventario.\")\n",
    "        \n",
    "        \n",
    "        print(inventario)\n",
    "\n",
    "eliminar_producto ('manzana')"
   ]
  },
  {
   "cell_type": "code",
   "execution_count": 25,
   "metadata": {},
   "outputs": [],
   "source": [
    "class Tienda_online:\n",
    "    \n",
    "    def __init__ (self, nombre):\n",
    "        \n",
    "        self.nombre = nombre\n",
    "        self.inventario = []\n",
    "        self.ventas_totales = 0.0 #float\n",
    "    \n",
    "    def agregar_productos(self, producto_nuevo):\n",
    "        \n",
    "        producto_existente = False\n",
    "        \n",
    "        for producto in self.inventario:\n",
    "            \n",
    "            if producto['nombre'] == producto_nuevo['nombre']:\n",
    "                \n",
    "                producto_existente = producto\n",
    "                \n",
    "                break\n",
    "        \n",
    "        if producto_existente:\n",
    "            \n",
    "            producto_existente['cantidad'] += producto_nuevo['cantidad']\n",
    "            print(f\"{producto_nuevo['nombre'].capitalize()} ya existe y su nueva cantidad es {producto_existente['cantidad']}\")\n",
    "        \n",
    "        else:\n",
    "            \n",
    "            self.inventario.append(producto_nuevo)\n",
    "            print(f\"Se ha añadido el producto nuevo con todos sus datos: {producto_nuevo}\")\n",
    "    \n",
    "    def eliminar_producto (self, nombre_producto):\n",
    "        \n",
    "        for i in range(len(self.inventario)-1, -1, -1):  # Recorre la lista de atrás hacia adelante, para evitar errores cuando después del pop volvemos a iterar\n",
    "            #desde el principio y los índices ya son diferentes debido a la eliminacion anterior. (start/stop/step. Por eso son 3 (-1)). \n",
    "            # len(inventario)-1 te da el índice del último elemento (porque las listas en Python comen en 0)\n",
    "            # 1en el stepde range(-1)indica que debe recorrer los índices en orden en adelante (de atrás hacia hacia atrás).\n",
    "            # el valor en stop (-1) asegura que el índice 0 se incluye en el recorrido.\n",
    "            \n",
    "            producto = self.inventario[i]\n",
    "            \n",
    "            if nombre_producto.lower() == producto ['nombre'].lower():\n",
    "                \n",
    "                self.inventario.pop(i)\n",
    "            \n",
    "                print(f\"El producto {nombre_producto} ha sido eliminado de tu inventario.\")\n",
    "                \n",
    "                break\n",
    "        \n",
    "        else:\n",
    "    \n",
    "            print(f\"El producto {nombre_producto} no se encuentra en el inventario.\")\n",
    "        \n",
    "        \n",
    "        print(f\"Inventario actualizado :{self.inventario}\")"
   ]
  },
  {
   "cell_type": "code",
   "execution_count": 26,
   "metadata": {},
   "outputs": [],
   "source": [
    "tienda = Tienda_online ('DeTodounPoco')"
   ]
  },
  {
   "cell_type": "code",
   "execution_count": 27,
   "metadata": {},
   "outputs": [
    {
     "name": "stdout",
     "output_type": "stream",
     "text": [
      "Se ha añadido el producto nuevo con todos sus datos: {'nombre': 'manzana', 'precio': 1, 'cantidad': 78}\n",
      "Se ha añadido el producto nuevo con todos sus datos: {'nombre': 'pera', 'precio': 0.5, 'cantidad': 180}\n",
      "Se ha añadido el producto nuevo con todos sus datos: {'nombre': 'aguacate', 'precio': 4, 'cantidad': 23}\n"
     ]
    }
   ],
   "source": [
    "producto_1 = {'nombre':'manzana', 'precio': 1, 'cantidad': 78}\n",
    "producto_2 = {'nombre':'pera', 'precio': 0.50, 'cantidad': 180}\n",
    "producto_3 = {'nombre':'aguacate', 'precio': 4, 'cantidad': 23}\n",
    "producto_4 = {'nombre':'aguacate', 'precio': 4, 'cantidad': 78}\n",
    "\n",
    "tienda.agregar_productos (producto_1)\n",
    "tienda.agregar_productos (producto_2)\n",
    "tienda.agregar_productos (producto_3)"
   ]
  },
  {
   "cell_type": "code",
   "execution_count": 28,
   "metadata": {},
   "outputs": [
    {
     "name": "stdout",
     "output_type": "stream",
     "text": [
      "El producto kiwi no se encuentra en el inventario.\n",
      "Inventario actualizado :[]\n"
     ]
    }
   ],
   "source": [
    "tienda.eliminar_producto ('kiwi')"
   ]
  },
  {
   "cell_type": "code",
   "execution_count": 29,
   "metadata": {},
   "outputs": [
    {
     "name": "stdout",
     "output_type": "stream",
     "text": [
      "El producto pera no se encuentra en el inventario.\n",
      "Inventario actualizado :[]\n"
     ]
    }
   ],
   "source": [
    "tienda.eliminar_producto ('pera')"
   ]
  },
  {
   "cell_type": "markdown",
   "metadata": {},
   "source": [
    "6. `calcular_valor_inventario(self)`: Calcula y muestra el valor total del inventario.\n",
    "\n",
    "    - Utiliza un bucle for para calcular el valor total del inventario.\n",
    "    - Itera a través del inventario y suma el valor de cada producto (precio x cantidad). Es decir, calcula el valor total del inventario. Ejemplo:\n",
    "\n",
    "    ```python\n",
    "    # si tenemos 5 camisas que valen 5 euros \n",
    "    # y 10 calcetines que valen 1 euro\n",
    "    # este método te tiene que devolver: 35 euros\n",
    "\n",
    "    valor_camisas = 5 * 5\n",
    "    valor_calcetines = 10 * 1\n",
    "\n",
    "    valor_camisas + valor_calcetines = 35\n",
    "    ```"
   ]
  }
 ],
 "metadata": {
  "kernelspec": {
   "display_name": "base",
   "language": "python",
   "name": "python3"
  },
  "language_info": {
   "codemirror_mode": {
    "name": "ipython",
    "version": 3
   },
   "file_extension": ".py",
   "mimetype": "text/x-python",
   "name": "python",
   "nbconvert_exporter": "python",
   "pygments_lexer": "ipython3",
   "version": "3.11.11"
  }
 },
 "nbformat": 4,
 "nbformat_minor": 2
}
